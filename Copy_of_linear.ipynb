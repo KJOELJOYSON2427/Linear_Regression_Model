{
  "nbformat": 4,
  "nbformat_minor": 0,
  "metadata": {
    "colab": {
      "provenance": [],
      "authorship_tag": "ABX9TyM0Iwb6E0ibKFNOHdZTcOLO",
      "include_colab_link": true
    },
    "kernelspec": {
      "name": "python3",
      "display_name": "Python 3"
    },
    "language_info": {
      "name": "python"
    }
  },
  "cells": [
    {
      "cell_type": "markdown",
      "metadata": {
        "id": "view-in-github",
        "colab_type": "text"
      },
      "source": [
        "<a href=\"https://colab.research.google.com/github/KJOELJOYSON2427/Linear_Regression_Model/blob/main/Copy_of_linear.ipynb\" target=\"_parent\"><img src=\"https://colab.research.google.com/assets/colab-badge.svg\" alt=\"Open In Colab\"/></a>"
      ]
    },
    {
      "cell_type": "code",
      "execution_count": 21,
      "metadata": {
        "id": "wEupEf_Cc9Wv"
      },
      "outputs": [],
      "source": [
        "import numpy as np"
      ]
    },
    {
      "cell_type": "code",
      "source": [
        "from abc import abstractclassmethod\n",
        "class Linear_Regression():\n",
        "  @abstractclassmethod\n",
        "  def __init__(self):\n",
        "    pass\n",
        "\n",
        "  @abstractclassmethod\n",
        "  def fit(self):\n",
        "    pass\n",
        "  @abstractclassmethod\n",
        "  def update_weights(self):\n",
        "    pass\n",
        "  @abstractclassmethod\n",
        "  def predict(self):\n",
        "    pass"
      ],
      "metadata": {
        "id": "G569pM64dIc4"
      },
      "execution_count": 20,
      "outputs": []
    },
    {
      "cell_type": "code",
      "source": [
        "from google.colab import drive\n",
        "drive.mount('/content/drive')"
      ],
      "metadata": {
        "id": "HmskeWgthwY5"
      },
      "execution_count": null,
      "outputs": []
    },
    {
      "cell_type": "code",
      "source": [
        "class LinearRegression(Linear_Regression):\n",
        "    def __init__(self, learning_rate=0.01, n_iterations=1000):\n",
        "        self.learning_rate = learning_rate\n",
        "        self.n_iterations = n_iterations\n",
        "        self.weights = None\n",
        "        self.bias = None\n",
        "\n",
        "    def fit(self, X, y):\n",
        "        # Initialize weights and bias\n",
        "        n_samples, n_features = X.shape\n",
        "        self.weights = np.zeros(n_features)\n",
        "        self.bias = 0\n",
        "        # self.y=y # Removed this line as self.y is not needed in fit\n",
        "\n",
        "        # Gradient Descent\n",
        "        for _ in range(self.n_iterations):\n",
        "            # Approximate y with linear combination of weights and x, plus bias\n",
        "\n",
        "            y_predicted = self.predict(X)\n",
        "\n",
        "            # Compute gradients\n",
        "            dw = (1/n_samples) * np.dot(X.T, (y_predicted - y))\n",
        "            db = (1/n_samples) * np.sum(y_predicted - y)\n",
        "\n",
        "            # Update weights and bias\n",
        "            self.update_weights(dw, db)\n",
        "\n",
        "    def update_weights(self, dw, db):\n",
        "        # Update weights and bias using gradients and learning rate\n",
        "        self.weights -= self.learning_rate * dw\n",
        "        self.bias -= self.learning_rate * db\n",
        "\n",
        "    def predict(self, X):\n",
        "        # Calculate predictions\n",
        "        y_predicted = np.dot(X, self.weights) + self.bias\n",
        "        # Removed the printing loop from here\n",
        "        return y_predicted"
      ],
      "metadata": {
        "id": "EbQ_59TGe46P"
      },
      "execution_count": 36,
      "outputs": []
    },
    {
      "cell_type": "markdown",
      "metadata": {
        "id": "c7afdac1"
      },
      "source": [
        "# Linear Regression Implementation\n",
        "\n",
        "This notebook contains a Python implementation of Linear Regression using gradient descent.\n",
        "\n",
        "## Class: `Linear_Regression` (Abstract Base Class)\n",
        "This class serves as an abstract base class defining the required methods for a linear regression model:\n",
        "- `__init__()`: Constructor\n",
        "- `fit()`: Method for training the model\n",
        "- `update_weights()`: Method for updating model weights\n",
        "- `predict()`: Method for making predictions\n",
        "\n",
        "## Class: `LinearRegression`\n",
        "This class inherits from `Linear_Regression` and provides a concrete implementation of the linear regression algorithm using gradient descent.\n",
        "\n",
        "### Parameters:\n",
        "- `learning_rate`: The step size for updating weights during gradient descent.\n",
        "- `n_iterations`: The number of iterations for the gradient descent algorithm.\n",
        "\n",
        "### Methods:\n",
        "- `__init__(self, learning_rate=0.01, n_iterations=1000)`: Initializes the learning rate, number of iterations, and sets initial weights and bias to None.\n",
        "- `fit(self, X, y)`: Trains the model using the provided input features `X` and target variable `y`. It initializes weights and bias, then iteratively updates them using gradient descent for a specified number of iterations.\n",
        "- `update_weights(self, dw, db)`: Updates the model's weights and bias based on the calculated gradients (`dw` and `db`) and the learning rate.\n",
        "- `predict(self, X)`: Predicts the output for the given input features `X` using the learned weights and bias.\n",
        "\n",
        "## Gradient Descent Details:\n",
        "The `fit` method uses gradient descent to minimize the mean squared error. The gradients for the weights (`dw`) and bias (`db`) are calculated as follows:\n",
        "\n",
        "$dw = \\frac{1}{n\\_samples} \\cdot X^T \\cdot (y\\_{predicted} - y)$\n",
        "\n",
        "$db = \\frac{1}{n\\_samples} \\cdot \\sum (y\\_{predicted} - y)$\n",
        "\n",
        "Where:\n",
        "- $n\\_samples$ is the number of training samples.\n",
        "- $X$ is the input feature matrix.\n",
        "- $X^T$ is the transpose of the input feature matrix.\n",
        "- $y\\_{predicted}$ is the vector of predicted outputs.\n",
        "- $y$ is the vector of actual outputs.\n",
        "\n",
        "The weights and bias are updated in each iteration using the following rules:\n",
        "\n",
        "$weights = weights - learning\\_rate \\cdot dw$\n",
        "\n",
        "$bias = bias - learning\\_rate \\cdot db$"
      ]
    },
    {
      "cell_type": "code",
      "metadata": {
        "colab": {
          "base_uri": "https://localhost:8080/"
        },
        "id": "5cf9d758",
        "outputId": "dcbffc93-5eec-4987-c7c7-82d07269d126"
      },
      "source": [
        "import numpy as np\n",
        "\n",
        "# Sample data\n",
        "X = np.array([[1, 2],\n",
        "              [3, 4],\n",
        "              [5, 6]]) # 3 samples, 2 features\n",
        "\n",
        "y = np.array([7, 8, 9]) # Actual outputs\n",
        "\n",
        "# Example predicted outputs (could be from an initial guess or previous iteration)\n",
        "y_predicted = np.array([6.5, 8.2, 9.8])\n",
        "\n",
        "# Calculate the error\n",
        "error = y_predicted - y\n",
        "\n",
        "# Calculate the dot product of X.T and the error\n",
        "dot_product_result = np.dot(X.T, error)\n",
        "\n",
        "print(\"X (input features):\\n\", X)\n",
        "print(\"\\nX.T (transpose of X):\\n\", X.T)\n",
        "print(\"\\ny (actual outputs):\\n\", y)\n",
        "print(\"\\ny_predicted (predicted outputs):\\n\", y_predicted)\n",
        "print(\"\\nerror (y_predicted - y):\\n\", error)\n",
        "print(\"\\nnp.dot(X.T, error) (dot product of X.T and error):\\n\", dot_product_result)"
      ],
      "execution_count": null,
      "outputs": [
        {
          "output_type": "stream",
          "name": "stdout",
          "text": [
            "X (input features):\n",
            " [[1 2]\n",
            " [3 4]\n",
            " [5 6]]\n",
            "\n",
            "X.T (transpose of X):\n",
            " [[1 3 5]\n",
            " [2 4 6]]\n",
            "\n",
            "y (actual outputs):\n",
            " [7 8 9]\n",
            "\n",
            "y_predicted (predicted outputs):\n",
            " [6.5 8.2 9.8]\n",
            "\n",
            "error (y_predicted - y):\n",
            " [-0.5  0.2  0.8]\n",
            "\n",
            "np.dot(X.T, error) (dot product of X.T and error):\n",
            " [4.1 4.6]\n"
          ]
        }
      ]
    },
    {
      "cell_type": "code",
      "source": [
        "import pandas as pd\n",
        "from sklearn.model_selection import train_test_split\n",
        "from matplotlib.pylab import plt"
      ],
      "metadata": {
        "id": "BT14Ur7XhQVO"
      },
      "execution_count": 41,
      "outputs": []
    },
    {
      "cell_type": "code",
      "source": [
        "salary_data = pd.read_csv('https://github.com/ybifoundation/Dataset/raw/main/Salary%20Data.csv')"
      ],
      "metadata": {
        "id": "n1ZfUll_i8-m"
      },
      "execution_count": 2,
      "outputs": []
    },
    {
      "cell_type": "code",
      "source": [
        "salary_data.shape"
      ],
      "metadata": {
        "colab": {
          "base_uri": "https://localhost:8080/"
        },
        "id": "eLTZ4BIIjz9j",
        "outputId": "139bde1d-2238-40af-c67f-60294af54b35"
      },
      "execution_count": 4,
      "outputs": [
        {
          "output_type": "execute_result",
          "data": {
            "text/plain": [
              "(40, 2)"
            ]
          },
          "metadata": {},
          "execution_count": 4
        }
      ]
    },
    {
      "cell_type": "markdown",
      "metadata": {
        "id": "ba902517"
      },
      "source": [
        "This cell imports the `pandas` and `train_test_split` libraries, which will be used for data manipulation and splitting the dataset."
      ]
    },
    {
      "cell_type": "code",
      "metadata": {
        "id": "1550345f"
      },
      "source": [
        "import pandas as pd\n",
        "from sklearn.model_selection import train_test_split"
      ],
      "execution_count": null,
      "outputs": []
    },
    {
      "cell_type": "markdown",
      "metadata": {
        "id": "c0251722"
      },
      "source": [
        "This cell loads the salary data from a GitHub repository into a pandas DataFrame."
      ]
    },
    {
      "cell_type": "code",
      "metadata": {
        "id": "5387c984"
      },
      "source": [
        "salary_data = pd.read_csv('https://github.com/ybifoundation/Dataset/raw/main/Salary%20Data.csv')"
      ],
      "execution_count": null,
      "outputs": []
    },
    {
      "cell_type": "markdown",
      "metadata": {
        "id": "110eb9d8"
      },
      "source": [
        "This cell displays the shape of the DataFrame, showing the number of rows and columns."
      ]
    },
    {
      "cell_type": "code",
      "metadata": {
        "id": "7a34dac9"
      },
      "source": [
        "salary_data.shape"
      ],
      "execution_count": null,
      "outputs": []
    },
    {
      "cell_type": "markdown",
      "metadata": {
        "id": "dcabc02c"
      },
      "source": [
        "This cell is currently empty, but it can be used to add further code for data preprocessing, model training, or evaluation."
      ]
    },
    {
      "cell_type": "code",
      "metadata": {
        "colab": {
          "base_uri": "https://localhost:8080/",
          "height": 147
        },
        "id": "64481170",
        "outputId": "8e93c2aa-0ad5-4340-93f4-ab625d44738c"
      },
      "source": [
        "salary_data.isnull().sum()"
      ],
      "execution_count": 6,
      "outputs": [
        {
          "output_type": "execute_result",
          "data": {
            "text/plain": [
              "Experience Years    0\n",
              "Salary              0\n",
              "dtype: int64"
            ],
            "text/html": [
              "<div>\n",
              "<style scoped>\n",
              "    .dataframe tbody tr th:only-of-type {\n",
              "        vertical-align: middle;\n",
              "    }\n",
              "\n",
              "    .dataframe tbody tr th {\n",
              "        vertical-align: top;\n",
              "    }\n",
              "\n",
              "    .dataframe thead th {\n",
              "        text-align: right;\n",
              "    }\n",
              "</style>\n",
              "<table border=\"1\" class=\"dataframe\">\n",
              "  <thead>\n",
              "    <tr style=\"text-align: right;\">\n",
              "      <th></th>\n",
              "      <th>0</th>\n",
              "    </tr>\n",
              "  </thead>\n",
              "  <tbody>\n",
              "    <tr>\n",
              "      <th>Experience Years</th>\n",
              "      <td>0</td>\n",
              "    </tr>\n",
              "    <tr>\n",
              "      <th>Salary</th>\n",
              "      <td>0</td>\n",
              "    </tr>\n",
              "  </tbody>\n",
              "</table>\n",
              "</div><br><label><b>dtype:</b> int64</label>"
            ]
          },
          "metadata": {},
          "execution_count": 6
        }
      ]
    },
    {
      "cell_type": "code",
      "source": [
        "#feature extraction and target\n",
        "print(salary_data.iloc[:,:-1].values,salary_data.iloc[:,1].values)\n",
        "X=salary_data.iloc[:,:-1].values\n",
        "Y=salary_data.iloc[:,1].values"
      ],
      "metadata": {
        "colab": {
          "base_uri": "https://localhost:8080/"
        },
        "collapsed": true,
        "id": "NxJ3XTahlZ3t",
        "outputId": "c6572061-caed-4f91-e191-4a845f56e5b4"
      },
      "execution_count": 9,
      "outputs": [
        {
          "output_type": "stream",
          "name": "stdout",
          "text": [
            "[[ 1.1]\n",
            " [ 1.2]\n",
            " [ 1.3]\n",
            " [ 1.5]\n",
            " [ 2. ]\n",
            " [ 2.2]\n",
            " [ 2.5]\n",
            " [ 2.9]\n",
            " [ 3. ]\n",
            " [ 3.2]\n",
            " [ 3.2]\n",
            " [ 3.5]\n",
            " [ 3.7]\n",
            " [ 3.8]\n",
            " [ 3.9]\n",
            " [ 4. ]\n",
            " [ 4. ]\n",
            " [ 4.1]\n",
            " [ 4.3]\n",
            " [ 4.5]\n",
            " [ 4.7]\n",
            " [ 4.9]\n",
            " [ 5.1]\n",
            " [ 5.3]\n",
            " [ 5.5]\n",
            " [ 5.9]\n",
            " [ 6. ]\n",
            " [ 6.2]\n",
            " [ 6.5]\n",
            " [ 6.8]\n",
            " [ 7.1]\n",
            " [ 7.9]\n",
            " [ 8.2]\n",
            " [ 8.5]\n",
            " [ 8.7]\n",
            " [ 9. ]\n",
            " [ 9.5]\n",
            " [ 9.6]\n",
            " [10.3]\n",
            " [10.5]] [ 39343  42774  46205  37731  43525  39891  48266  56642  60150  54445\n",
            "  64445  60000  57189  60200  63218  55794  56957  57081  59095  61111\n",
            "  64500  67938  66029  83088  82200  81363  93940  91000  90000  91738\n",
            "  98273 101302 113812 111620 109431 105582 116969 112635 122391 121872]\n"
          ]
        }
      ]
    },
    {
      "cell_type": "code",
      "source": [
        "X_train, X_test, Y_train, Y_test=train_test_split(X,Y, test_size=0.33, random_state=2)"
      ],
      "metadata": {
        "id": "cj_aDZQ9oh6c"
      },
      "execution_count": 14,
      "outputs": []
    },
    {
      "cell_type": "code",
      "source": [
        "print(X_train,Y_train)"
      ],
      "metadata": {
        "colab": {
          "base_uri": "https://localhost:8080/"
        },
        "collapsed": true,
        "id": "9iyzxyKypfc8",
        "outputId": "1000824d-ef1c-46cf-bc92-f5f731d727fc"
      },
      "execution_count": 16,
      "outputs": [
        {
          "output_type": "stream",
          "name": "stdout",
          "text": [
            "[[ 4. ]\n",
            " [ 1.2]\n",
            " [ 8.5]\n",
            " [ 5.3]\n",
            " [ 5.9]\n",
            " [ 4.5]\n",
            " [ 8.2]\n",
            " [ 3.2]\n",
            " [ 2. ]\n",
            " [ 2.5]\n",
            " [ 1.5]\n",
            " [ 8.7]\n",
            " [ 2.2]\n",
            " [ 6.5]\n",
            " [ 4.7]\n",
            " [ 6. ]\n",
            " [10.5]\n",
            " [ 4.9]\n",
            " [ 9. ]\n",
            " [ 7.9]\n",
            " [ 2.9]\n",
            " [ 3.5]\n",
            " [ 4.3]\n",
            " [ 5.1]\n",
            " [ 3. ]\n",
            " [ 4. ]] [ 56957  42774 111620  83088  81363  61111 113812  64445  43525  48266\n",
            "  37731 109431  39891  90000  64500  93940 121872  67938 105582 101302\n",
            "  56642  60000  59095  66029  60150  55794]\n"
          ]
        }
      ]
    },
    {
      "cell_type": "code",
      "source": [
        "linear_model=LinearRegression(0.01, 1000)\n",
        "linear_model.fit(X_train,Y_train)"
      ],
      "metadata": {
        "collapsed": true,
        "id": "Q3ShmG-Upr9G"
      },
      "execution_count": 52,
      "outputs": []
    },
    {
      "cell_type": "code",
      "source": [
        "print('weight=', linear_model.weights[0])\n",
        "print('bias=', linear_model.bias)"
      ],
      "metadata": {
        "colab": {
          "base_uri": "https://localhost:8080/"
        },
        "id": "Z3Rm5n6XsOPc",
        "outputId": "4b5c9e93-20c7-4f92-9bae-6ac155830fda"
      },
      "execution_count": 54,
      "outputs": [
        {
          "output_type": "stream",
          "name": "stdout",
          "text": [
            "weight= 10213.107848016378\n",
            "bias= 21269.313218571035\n"
          ]
        }
      ]
    },
    {
      "cell_type": "code",
      "source": [
        "test_data_prediction=linear_model.predict(X_test)"
      ],
      "metadata": {
        "id": "hU0Td7cys_NT"
      },
      "execution_count": 53,
      "outputs": []
    },
    {
      "cell_type": "code",
      "source": [
        "plt.scatter(X_test, Y_test, color=\"red\")"
      ],
      "metadata": {
        "colab": {
          "base_uri": "https://localhost:8080/",
          "height": 447
        },
        "id": "vOjPi5Jvuof5",
        "outputId": "e03c6ea4-d72e-4d35-f26a-da7e3cc11952"
      },
      "execution_count": 55,
      "outputs": [
        {
          "output_type": "execute_result",
          "data": {
            "text/plain": [
              "<matplotlib.collections.PathCollection at 0x78908d24d220>"
            ]
          },
          "metadata": {},
          "execution_count": 55
        },
        {
          "output_type": "display_data",
          "data": {
            "text/plain": [
              "<Figure size 640x480 with 1 Axes>"
            ],
            "image/png": "[encoded data removed]"
          },
          "metadata": {}
        }
      ]
    },
    {
      "cell_type": "code",
      "source": [
        "plt.scatter(X_test, Y_test, color=\"red\")\n",
        "plt.plot(X_test, test_data_prediction, color=\"blue\")\n",
        "plt.xlabel('Work Experience')\n",
        "plt.ylabel('Salary')\n",
        "plt.title('Work Experience vs Salary')\n",
        "plt.show()"
      ],
      "metadata": {
        "colab": {
          "base_uri": "https://localhost:8080/",
          "height": 472
        },
        "id": "MpQ_BlvfvBjc",
        "outputId": "877c5114-05de-45b0-87b2-d982822b0a7b"
      },
      "execution_count": 56,
      "outputs": [
        {
          "output_type": "display_data",
          "data": {
            "text/plain": [
              "<Figure size 640x480 with 1 Axes>"
            ],
            "image/png": "[encoded data removed]"
          },
          "metadata": {}
        }
      ]
    },
    {
      "cell_type": "markdown",
      "metadata": {
        "id": "b55355f8"
      },
      "source": [
        "This cell imports the NumPy library, which is commonly used for numerical operations in Python."
      ]
    },
    {
      "cell_type": "code",
      "metadata": {
        "id": "67ac92a9"
      },
      "source": [
        "import numpy as np"
      ],
      "execution_count": 57,
      "outputs": []
    },
    {
      "cell_type": "markdown",
      "metadata": {
        "id": "1d38aace"
      },
      "source": [
        "This cell defines an abstract base class `Linear_Regression` using Python's `abc` module. It outlines the essential methods (`__init__`, `fit`, `update_weights`, and `predict`) that any concrete linear regression implementation should have."
      ]
    },
    {
      "cell_type": "code",
      "metadata": {
        "id": "7616e85a"
      },
      "source": [
        "from abc import abstractclassmethod\n",
        "class Linear_Regression():\n",
        "  @abstractclassmethod\n",
        "  def __init__(self):\n",
        "    pass\n",
        "\n",
        "  @abstractclassmethod\n",
        "  def fit(self):\n",
        "    pass\n",
        "  @abstractclassmethod\n",
        "  def update_weights(self):\n",
        "    pass\n",
        "  @abstractclassmethod\n",
        "  def predict(self):\n",
        "    pass"
      ],
      "execution_count": 58,
      "outputs": []
    },
    {
      "cell_type": "markdown",
      "metadata": {
        "id": "1cd36b24"
      },
      "source": [
        "This cell mounts your Google Drive to the Colab environment, allowing you to access files stored in your Drive."
      ]
    },
    {
      "cell_type": "code",
      "metadata": {
        "colab": {
          "base_uri": "https://localhost:8080/"
        },
        "id": "2aa29545",
        "outputId": "667fe30e-39ba-4f71-e7b8-fa1cb5466fab"
      },
      "source": [
        "from google.colab import drive\n",
        "drive.mount('/content/drive')"
      ],
      "execution_count": 59,
      "outputs": [
        {
          "output_type": "stream",
          "name": "stdout",
          "text": [
            "Mounted at /content/drive\n"
          ]
        }
      ]
    },
    {
      "cell_type": "markdown",
      "metadata": {
        "id": "e4518bf7"
      },
      "source": [
        "This cell defines the `LinearRegression` class, which inherits from the abstract `Linear_Regression` class. It implements the linear regression algorithm using gradient descent."
      ]
    },
    {
      "cell_type": "code",
      "metadata": {
        "id": "24709c2c"
      },
      "source": [
        "class LinearRegression(Linear_Regression):\n",
        "    def __init__(self, learning_rate=0.01, n_iterations=1000):\n",
        "        self.learning_rate = learning_rate\n",
        "        self.n_iterations = n_iterations\n",
        "        self.weights = None\n",
        "        self.bias = None\n",
        "\n",
        "    def fit(self, X, y):\n",
        "        # Initialize weights and bias\n",
        "        n_samples, n_features = X.shape\n",
        "        self.weights = np.zeros(n_features)\n",
        "        self.bias = 0\n",
        "        # self.y=y # Removed this line as self.y is not needed in fit\n",
        "\n",
        "        # Gradient Descent\n",
        "        for _ in range(self.n_iterations):\n",
        "            # Approximate y with linear combination of weights and x, plus bias\n",
        "\n",
        "            y_predicted = self.predict(X)\n",
        "\n",
        "            # Compute gradients\n",
        "            dw = (1/n_samples) * np.dot(X.T, (y_predicted - y))\n",
        "            db = (1/n_samples) * np.sum(y_predicted - y)\n",
        "\n",
        "            # Update weights and bias\n",
        "            self.update_weights(dw, db)\n",
        "\n",
        "    def update_weights(self, dw, db):\n",
        "        # Update weights and bias using gradients and learning rate\n",
        "        self.weights -= self.learning_rate * dw\n",
        "        self.bias -= self.learning_rate * db\n",
        "\n",
        "    def predict(self, X):\n",
        "        # Calculate predictions\n",
        "        y_predicted = np.dot(X, self.weights) + self.bias\n",
        "        # Removed the printing loop from here\n",
        "        return y_predicted"
      ],
      "execution_count": 60,
      "outputs": []
    },
    {
      "cell_type": "markdown",
      "metadata": {
        "id": "7db5a561"
      },
      "source": [
        "This cell contains a markdown explanation of the Linear Regression implementation, including details about the classes and the gradient descent algorithm."
      ]
    },
    {
      "cell_type": "markdown",
      "metadata": {
        "id": "561328f9"
      },
      "source": [
        "# Linear Regression Implementation\n",
        "\n",
        "This notebook contains a Python implementation of Linear Regression using gradient descent.\n",
        "\n",
        "## Class: `Linear_Regression` (Abstract Base Class)\n",
        "This class serves as an abstract base class defining the required methods for a linear regression model:\n",
        "- `__init__()`: Constructor\n",
        "- `fit()`: Method for training the model\n",
        "- `update_weights()`: Method for updating model weights\n",
        "- `predict()`: Method for making predictions\n",
        "\n",
        "## Class: `LinearRegression`\n",
        "This class inherits from `Linear_Regression` and provides a concrete implementation of the linear regression algorithm using gradient descent.\n",
        "\n",
        "### Parameters:\n",
        "- `learning_rate`: The step size for updating weights during gradient descent.\n",
        "- `n_iterations`: The number of iterations for the gradient descent algorithm.\n",
        "\n",
        "### Methods:\n",
        "- `__init__(self, learning_rate=0.01, n_iterations=1000)`: Initializes the learning rate, number of iterations, and sets initial weights and bias to None.\n",
        "- `fit(self, X, y)`: Trains the model using the provided input features `X` and target variable `y`. It initializes weights and bias, then iteratively updates them using gradient descent for a specified number of iterations.\n",
        "- `update_weights(self, dw, db)`: Updates the model's weights and bias based on the calculated gradients (`dw` and `db`) and the learning rate.\n",
        "- `predict(self, X)`: Predicts the output for the given input features `X` using the learned weights and bias.\n",
        "\n",
        "## Gradient Descent Details:\n",
        "The `fit` method uses gradient descent to minimize the mean squared error. The gradients for the weights (`dw`) and bias (`db`) are calculated as follows:\n",
        "\n",
        "$dw = \\frac{1}{n\\_samples} \\cdot X^T \\cdot (y\\_{predicted} - y)$\n",
        "\n",
        "$db = \\frac{1}{n\\_samples} \\cdot \\sum (y\\_{predicted} - y)$\n",
        "\n",
        "Where:\n",
        "- $n\\_samples$ is the number of training samples.\n",
        "- $X$ is the input feature matrix.\n",
        "- $X^T$ is the transpose of the input feature matrix.\n",
        "- $y\\_{predicted}$ is the vector of predicted outputs.\n",
        "- $y$ is the vector of actual outputs.\n",
        "\n",
        "The weights and bias are updated in each iteration using the following rules:\n",
        "\n",
        "$weights = weights - learning\\_rate \\cdot dw$\n",
        "\n",
        "$bias = bias - learning\\_rate \\cdot db$"
      ]
    },
    {
      "cell_type": "markdown",
      "metadata": {
        "id": "e9727289"
      },
      "source": [
        "This cell demonstrates how to perform matrix operations (specifically, the dot product of the transpose of X and the error) using NumPy. It uses sample data to illustrate the calculation of a part of the gradient descent update."
      ]
    },
    {
      "cell_type": "code",
      "metadata": {
        "colab": {
          "base_uri": "https://localhost:8080/"
        },
        "id": "ff33ef46",
        "outputId": "e8218249-b69b-453e-e933-7fa13015274c"
      },
      "source": [
        "import numpy as np\n",
        "\n",
        "# Sample data\n",
        "X = np.array([[1, 2],\n",
        "              [3, 4],\n",
        "              [5, 6]]) # 3 samples, 2 features\n",
        "\n",
        "y = np.array([7, 8, 9]) # Actual outputs\n",
        "\n",
        "# Example predicted outputs (could be from an initial guess or previous iteration)\n",
        "y_predicted = np.array([6.5, 8.2, 9.8])\n",
        "\n",
        "# Calculate the error\n",
        "error = y_predicted - y\n",
        "\n",
        "# Calculate the dot product of X.T and the error\n",
        "dot_product_result = np.dot(X.T, error)\n",
        "\n",
        "print(\"X (input features):\\n\", X)\n",
        "print(\"\\nX.T (transpose of X):\\n\", X.T)\n",
        "print(\"\\ny (actual outputs):\\n\", y)\n",
        "print(\"\\ny_predicted (predicted outputs):\\n\", y_predicted)\n",
        "print(\"\\nerror (y_predicted - y):\\n\", error)\n",
        "print(\"\\nnp.dot(X.T, error) (dot product of X.T and error):\\n\", dot_product_result)"
      ],
      "execution_count": 61,
      "outputs": [
        {
          "output_type": "stream",
          "name": "stdout",
          "text": [
            "X (input features):\n",
            " [[1 2]\n",
            " [3 4]\n",
            " [5 6]]\n",
            "\n",
            "X.T (transpose of X):\n",
            " [[1 3 5]\n",
            " [2 4 6]]\n",
            "\n",
            "y (actual outputs):\n",
            " [7 8 9]\n",
            "\n",
            "y_predicted (predicted outputs):\n",
            " [6.5 8.2 9.8]\n",
            "\n",
            "error (y_predicted - y):\n",
            " [-0.5  0.2  0.8]\n",
            "\n",
            "np.dot(X.T, error) (dot product of X.T and error):\n",
            " [4.1 4.6]\n"
          ]
        }
      ]
    },
    {
      "cell_type": "markdown",
      "metadata": {
        "id": "f35ce7d7"
      },
      "source": [
        "This cell imports the `pandas`, `train_test_split`, and `matplotlib.pylab` libraries. Pandas is used for data manipulation, `train_test_split` for splitting data into training and testing sets, and `matplotlib.pylab` for plotting."
      ]
    },
    {
      "cell_type": "code",
      "metadata": {
        "id": "282c7073"
      },
      "source": [
        "import pandas as pd\n",
        "from sklearn.model_selection import train_test_split\n",
        "from matplotlib.pylab import plt"
      ],
      "execution_count": 62,
      "outputs": []
    },
    {
      "cell_type": "markdown",
      "metadata": {
        "id": "23d690bc"
      },
      "source": [
        "This cell loads the salary data from a GitHub repository into a pandas DataFrame."
      ]
    },
    {
      "cell_type": "code",
      "metadata": {
        "id": "27e32fb1"
      },
      "source": [
        "salary_data = pd.read_csv('https://github.com/ybifoundation/Dataset/raw/main/Salary%20Data.csv')"
      ],
      "execution_count": 63,
      "outputs": []
    },
    {
      "cell_type": "markdown",
      "metadata": {
        "id": "08d296d4"
      },
      "source": [
        "This cell displays the shape of the DataFrame, showing the number of rows and columns."
      ]
    },
    {
      "cell_type": "code",
      "metadata": {
        "colab": {
          "base_uri": "https://localhost:8080/"
        },
        "id": "ef05924b",
        "outputId": "0e453160-9ef4-4d25-c2d2-7ce99776b508"
      },
      "source": [
        "salary_data.shape"
      ],
      "execution_count": 64,
      "outputs": [
        {
          "output_type": "execute_result",
          "data": {
            "text/plain": [
              "(40, 2)"
            ]
          },
          "metadata": {},
          "execution_count": 64
        }
      ]
    },
    {
      "cell_type": "markdown",
      "metadata": {
        "id": "c7328ec3"
      },
      "source": [
        "This cell checks for missing values in the DataFrame and sums them up for each column."
      ]
    },
    {
      "cell_type": "code",
      "metadata": {
        "colab": {
          "base_uri": "https://localhost:8080/",
          "height": 147
        },
        "id": "2deda37f",
        "outputId": "30921dd7-dd4d-4e4e-f24b-0daa9b3c8486"
      },
      "source": [
        "salary_data.isnull().sum()"
      ],
      "execution_count": 65,
      "outputs": [
        {
          "output_type": "execute_result",
          "data": {
            "text/plain": [
              "Experience Years    0\n",
              "Salary              0\n",
              "dtype: int64"
            ],
            "text/html": [
              "<div>\n",
              "<style scoped>\n",
              "    .dataframe tbody tr th:only-of-type {\n",
              "        vertical-align: middle;\n",
              "    }\n",
              "\n",
              "    .dataframe tbody tr th {\n",
              "        vertical-align: top;\n",
              "    }\n",
              "\n",
              "    .dataframe thead th {\n",
              "        text-align: right;\n",
              "    }\n",
              "</style>\n",
              "<table border=\"1\" class=\"dataframe\">\n",
              "  <thead>\n",
              "    <tr style=\"text-align: right;\">\n",
              "      <th></th>\n",
              "      <th>0</th>\n",
              "    </tr>\n",
              "  </thead>\n",
              "  <tbody>\n",
              "    <tr>\n",
              "      <th>Experience Years</th>\n",
              "      <td>0</td>\n",
              "    </tr>\n",
              "    <tr>\n",
              "      <th>Salary</th>\n",
              "      <td>0</td>\n",
              "    </tr>\n",
              "  </tbody>\n",
              "</table>\n",
              "</div><br><label><b>dtype:</b> int64</label>"
            ]
          },
          "metadata": {},
          "execution_count": 65
        }
      ]
    },
    {
      "cell_type": "markdown",
      "metadata": {
        "id": "acbf0837"
      },
      "source": [
        "This cell separates the features (Experience Years) into variable `X` and the target variable (Salary) into variable `Y`. It uses `.iloc` to select columns and `.values` to get the NumPy array representation."
      ]
    },
    {
      "cell_type": "code",
      "metadata": {
        "colab": {
          "base_uri": "https://localhost:8080/"
        },
        "id": "33b217a4",
        "outputId": "f4564f6d-f091-4e0b-bf98-6a3212402f40"
      },
      "source": [
        "#feature extraction and target\n",
        "print(salary_data.iloc[:,:-1].values,salary_data.iloc[:,1].values)\n",
        "X=salary_data.iloc[:,:-1].values\n",
        "Y=salary_data.iloc[:,1].values"
      ],
      "execution_count": 66,
      "outputs": [
        {
          "output_type": "stream",
          "name": "stdout",
          "text": [
            "[[ 1.1]\n",
            " [ 1.2]\n",
            " [ 1.3]\n",
            " [ 1.5]\n",
            " [ 2. ]\n",
            " [ 2.2]\n",
            " [ 2.5]\n",
            " [ 2.9]\n",
            " [ 3. ]\n",
            " [ 3.2]\n",
            " [ 3.2]\n",
            " [ 3.5]\n",
            " [ 3.7]\n",
            " [ 3.8]\n",
            " [ 3.9]\n",
            " [ 4. ]\n",
            " [ 4. ]\n",
            " [ 4.1]\n",
            " [ 4.3]\n",
            " [ 4.5]\n",
            " [ 4.7]\n",
            " [ 4.9]\n",
            " [ 5.1]\n",
            " [ 5.3]\n",
            " [ 5.5]\n",
            " [ 5.9]\n",
            " [ 6. ]\n",
            " [ 6.2]\n",
            " [ 6.5]\n",
            " [ 6.8]\n",
            " [ 7.1]\n",
            " [ 7.9]\n",
            " [ 8.2]\n",
            " [ 8.5]\n",
            " [ 8.7]\n",
            " [ 9. ]\n",
            " [ 9.5]\n",
            " [ 9.6]\n",
            " [10.3]\n",
            " [10.5]] [ 39343  42774  46205  37731  43525  39891  48266  56642  60150  54445\n",
            "  64445  60000  57189  60200  63218  55794  56957  57081  59095  61111\n",
            "  64500  67938  66029  83088  82200  81363  93940  91000  90000  91738\n",
            "  98273 101302 113812 111620 109431 105582 116969 112635 122391 121872]\n"
          ]
        }
      ]
    },
    {
      "cell_type": "markdown",
      "metadata": {
        "id": "055b9cb2"
      },
      "source": [
        "This cell splits the data into training and testing sets using `train_test_split`. 33% of the data is allocated to the test set, and `random_state` ensures reproducibility of the split."
      ]
    },
    {
      "cell_type": "code",
      "metadata": {
        "id": "a59e46a6"
      },
      "source": [
        "X_train, X_test, Y_train, Y_test=train_test_split(X,Y, test_size=0.33, random_state=2)"
      ],
      "execution_count": 67,
      "outputs": []
    },
    {
      "cell_type": "markdown",
      "metadata": {
        "id": "c2bb2cb3"
      },
      "source": [
        "This cell prints the training sets for features (`X_train`) and the target variable (`Y_train`)."
      ]
    },
    {
      "cell_type": "code",
      "metadata": {
        "colab": {
          "base_uri": "https://localhost:8080/"
        },
        "id": "a4d9d7a1",
        "outputId": "71787bb3-5310-49b2-fd12-900fb9032ac0"
      },
      "source": [
        "print(X_train,Y_train)"
      ],
      "execution_count": 68,
      "outputs": [
        {
          "output_type": "stream",
          "name": "stdout",
          "text": [
            "[[ 4. ]\n",
            " [ 1.2]\n",
            " [ 8.5]\n",
            " [ 5.3]\n",
            " [ 5.9]\n",
            " [ 4.5]\n",
            " [ 8.2]\n",
            " [ 3.2]\n",
            " [ 2. ]\n",
            " [ 2.5]\n",
            " [ 1.5]\n",
            " [ 8.7]\n",
            " [ 2.2]\n",
            " [ 6.5]\n",
            " [ 4.7]\n",
            " [ 6. ]\n",
            " [10.5]\n",
            " [ 4.9]\n",
            " [ 9. ]\n",
            " [ 7.9]\n",
            " [ 2.9]\n",
            " [ 3.5]\n",
            " [ 4.3]\n",
            " [ 5.1]\n",
            " [ 3. ]\n",
            " [ 4. ]] [ 56957  42774 111620  83088  81363  61111 113812  64445  43525  48266\n",
            "  37731 109431  39891  90000  64500  93940 121872  67938 105582 101302\n",
            "  56642  60000  59095  66029  60150  55794]\n"
          ]
        }
      ]
    },
    {
      "cell_type": "markdown",
      "metadata": {
        "id": "1f7a98c9"
      },
      "source": [
        "This cell initializes an instance of the `LinearRegression` model with a learning rate of 0.01 and 1000 iterations, and then fits the model to the training data (`X_train`, `Y_train`)."
      ]
    },
    {
      "cell_type": "code",
      "metadata": {
        "id": "bfa0f29f"
      },
      "source": [
        "linear_model=LinearRegression(0.01, 1000)\n",
        "linear_model.fit(X_train,Y_train)"
      ],
      "execution_count": 69,
      "outputs": []
    },
    {
      "cell_type": "markdown",
      "metadata": {
        "id": "abb77ede"
      },
      "source": [
        "This cell prints the learned weight and bias from the trained linear regression model."
      ]
    },
    {
      "cell_type": "code",
      "metadata": {
        "colab": {
          "base_uri": "https://localhost:8080/"
        },
        "id": "e778b141",
        "outputId": "24264c4f-4b19-4c08-9af7-e9ffc4863aa7"
      },
      "source": [
        "print('weight=', linear_model.weights[0])\n",
        "print('bias=', linear_model.bias)"
      ],
      "execution_count": 70,
      "outputs": [
        {
          "output_type": "stream",
          "name": "stdout",
          "text": [
            "weight= 10213.107848016378\n",
            "bias= 21269.313218571035\n"
          ]
        }
      ]
    },
    {
      "cell_type": "markdown",
      "metadata": {
        "id": "dc446921"
      },
      "source": [
        "This cell uses the trained linear regression model to make predictions on the test set (`X_test`)."
      ]
    },
    {
      "cell_type": "code",
      "metadata": {
        "id": "250aa744"
      },
      "source": [
        "test_data_prediction=linear_model.predict(X_test)"
      ],
      "execution_count": 71,
      "outputs": []
    },
    {
      "cell_type": "markdown",
      "metadata": {
        "id": "a6013263"
      },
      "source": [
        "This cell creates a scatter plot of the actual test data points, with 'Work Experience' on the x-axis and 'Salary' on the y-axis. The points are colored red."
      ]
    },
    {
      "cell_type": "code",
      "metadata": {
        "colab": {
          "base_uri": "https://localhost:8080/",
          "height": 447
        },
        "id": "dcc8939e",
        "outputId": "a6c9590e-6f9b-4a69-b440-1cd5ccd1ce48"
      },
      "source": [
        "plt.scatter(X_test, Y_test, color=\"red\")"
      ],
      "execution_count": 72,
      "outputs": [
        {
          "output_type": "execute_result",
          "data": {
            "text/plain": [
              "<matplotlib.collections.PathCollection at 0x78908cf6faa0>"
            ]
          },
          "metadata": {},
          "execution_count": 72
        },
        {
          "output_type": "display_data",
          "data": {
            "text/plain": [
              "<Figure size 640x480 with 1 Axes>"
            ],
            "image/png": "[encoded data removed]"
          },
          "metadata": {}
        }
      ]
    },
    {
      "cell_type": "markdown",
      "metadata": {
        "id": "1dac8c48"
      },
      "source": [
        "This cell generates a scatter plot of the actual test data (red points) and overlays the predicted values (blue line) from the linear regression model. It also labels the axes and adds a title to the plot."
      ]
    },
    {
      "cell_type": "code",
      "metadata": {
        "colab": {
          "base_uri": "https://localhost:8080/",
          "height": 472
        },
        "id": "510b21dd",
        "outputId": "d6efe616-ef75-4482-d45c-8e4604b7958b"
      },
      "source": [
        "plt.scatter(X_test, Y_test, color=\"red\")\n",
        "plt.plot(X_test, test_data_prediction, color=\"blue\")\n",
        "plt.xlabel('Work Experience')\n",
        "plt.ylabel('Salary')\n",
        "plt.title('Work Experience vs Salary')\n",
        "plt.show()"
      ],
      "execution_count": 73,
      "outputs": [
        {
          "output_type": "display_data",
          "data": {
            "text/plain": [
              "<Figure size 640x480 with 1 Axes>"
            ],
            "image/png": "[encoded data removed]"
          },
          "metadata": {}
        }
      ]
    }
  ]
}